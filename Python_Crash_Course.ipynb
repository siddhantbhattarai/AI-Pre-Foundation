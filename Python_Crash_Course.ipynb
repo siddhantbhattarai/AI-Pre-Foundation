{
  "nbformat": 4,
  "nbformat_minor": 0,
  "metadata": {
    "colab": {
      "provenance": [],
      "authorship_tag": "ABX9TyPpU7yGSSZI9MFWr0PMhnEC",
      "include_colab_link": true
    },
    "kernelspec": {
      "name": "python3",
      "display_name": "Python 3"
    },
    "language_info": {
      "name": "python"
    }
  },
  "cells": [
    {
      "cell_type": "markdown",
      "metadata": {
        "id": "view-in-github",
        "colab_type": "text"
      },
      "source": [
        "<a href=\"https://colab.research.google.com/github/siddhantbhattarai/AI-Pre-Foundation/blob/main/Python_Crash_Course.ipynb\" target=\"_parent\"><img src=\"https://colab.research.google.com/assets/colab-badge.svg\" alt=\"Open In Colab\"/></a>"
      ]
    },
    {
      "cell_type": "markdown",
      "source": [
        "Python is a programming language that lets you work quickly and integrate systems more effectively."
      ],
      "metadata": {
        "id": "8VvqP7HOXHAT"
      }
    },
    {
      "cell_type": "markdown",
      "source": [
        "#### Python Crash Course\n",
        "This notebook will just go through the basic topics in order:\n",
        "\n",
        "- Print Statements\n",
        "- Data types\n",
        "    - Numbers\n",
        "    - Strings\n",
        "    - Lists\n",
        "    - Dictionaries\n",
        "    - Booleans\n",
        "    - Tuples\n",
        "    - Sets\n",
        "- Comparison Operators\n",
        "- if,elif, else Statements\n",
        "- for Loops\n",
        "- while Loops"
      ],
      "metadata": {
        "id": "sfFua-b_V98E"
      }
    },
    {
      "cell_type": "markdown",
      "source": [
        "1. Print Statements"
      ],
      "metadata": {
        "id": "WD1_ITlwWqD1"
      }
    },
    {
      "cell_type": "code",
      "execution_count": null,
      "metadata": {
        "colab": {
          "base_uri": "https://localhost:8080/"
        },
        "id": "-KSm3SGnV5Uc",
        "outputId": "b1ff960f-6a35-452f-dc6f-b0f09edf3d26"
      },
      "outputs": [
        {
          "output_type": "stream",
          "name": "stdout",
          "text": [
            "Let's learn the python for Machine Learning!!\n"
          ]
        }
      ],
      "source": [
        "# Let's learn about the print statements\n",
        "print(\"Let's learn the python for Machine Learning!!\")"
      ]
    },
    {
      "cell_type": "code",
      "source": [
        "# Let's create two variables and print them\n",
        "x =18\n",
        "y = \"Dilasha\"\n",
        "print(x)\n",
        "print(y)"
      ],
      "metadata": {
        "colab": {
          "base_uri": "https://localhost:8080/"
        },
        "id": "kjTWTX6kXbe-",
        "outputId": "958897f8-da12-4e8a-ae21-92af3fb0019b"
      },
      "execution_count": null,
      "outputs": [
        {
          "output_type": "stream",
          "name": "stdout",
          "text": [
            "18\n",
            "Dilasha\n"
          ]
        }
      ]
    },
    {
      "cell_type": "code",
      "source": [
        "name = input(\"What's your name? \")\n",
        "print(f\"Hi, {name}! Welcome to our Python Crsah Course.\")"
      ],
      "metadata": {
        "colab": {
          "base_uri": "https://localhost:8080/"
        },
        "id": "lntIlcY6ePIn",
        "outputId": "67fa5df3-c528-4365-baa8-da0b6b48741b"
      },
      "execution_count": null,
      "outputs": [
        {
          "output_type": "stream",
          "name": "stdout",
          "text": [
            "What's your name? Aaron\n",
            "Hi, Aaron! Welcome to our Python Crsah Course.\n"
          ]
        }
      ]
    },
    {
      "cell_type": "code",
      "source": [
        "# let's print the statement with string formatting method\n",
        "print(f\"{y} is {x} years old.\")"
      ],
      "metadata": {
        "colab": {
          "base_uri": "https://localhost:8080/"
        },
        "id": "f9zdcVcvX9bi",
        "outputId": "cc01bd4d-5dfb-4567-f372-cadbaa5d698a"
      },
      "execution_count": null,
      "outputs": [
        {
          "output_type": "stream",
          "name": "stdout",
          "text": [
            "Dilasha is 18 years old.\n"
          ]
        }
      ]
    },
    {
      "cell_type": "code",
      "source": [
        "# let's use format method\n",
        "print(\"{} is {} years old.\" .format(y,x))"
      ],
      "metadata": {
        "colab": {
          "base_uri": "https://localhost:8080/"
        },
        "id": "_kY5cl-KYToT",
        "outputId": "494779d1-ee61-4d40-9e49-d698e226f9f8"
      },
      "execution_count": null,
      "outputs": [
        {
          "output_type": "stream",
          "name": "stdout",
          "text": [
            "Dilasha is 18 years old.\n"
          ]
        }
      ]
    },
    {
      "cell_type": "code",
      "source": [
        "# using concatenation method\n",
        "print(y + \" is \" + str(x) + \" years old.\")"
      ],
      "metadata": {
        "colab": {
          "base_uri": "https://localhost:8080/"
        },
        "id": "yMJ8CFgCYyur",
        "outputId": "48c69286-307c-4f4c-e2a9-bd726d0cfc5f"
      },
      "execution_count": null,
      "outputs": [
        {
          "output_type": "stream",
          "name": "stdout",
          "text": [
            "Dilasha is 18 years old.\n"
          ]
        }
      ]
    },
    {
      "cell_type": "code",
      "source": [
        "# Using older % string formatting method\n",
        "print(\"%s is %d years old.\" %(y,x))"
      ],
      "metadata": {
        "colab": {
          "base_uri": "https://localhost:8080/"
        },
        "id": "PE2pYMATZhSw",
        "outputId": "853e8187-f9c8-4bf0-bdf3-78a34326528f"
      },
      "execution_count": null,
      "outputs": [
        {
          "output_type": "stream",
          "name": "stdout",
          "text": [
            "Dilasha is 18 years old.\n"
          ]
        }
      ]
    },
    {
      "cell_type": "markdown",
      "source": [
        "2. Data Types\n",
        "- A data type is an attribute associated with a piece of data that tells a computer system how to interpret its value. Understanding data types ensures that data is collected in the preferred format and the value of each property is as expected."
      ],
      "metadata": {
        "id": "ByQZFGIddfga"
      }
    },
    {
      "cell_type": "markdown",
      "source": [
        "2.1 Numbers"
      ],
      "metadata": {
        "id": "J5bMF2AWhCbF"
      }
    },
    {
      "cell_type": "markdown",
      "source": [
        "Q. Create a program that converts temperatures between Celsius and Fahrenheit."
      ],
      "metadata": {
        "id": "H2_ntnt0e0F8"
      }
    },
    {
      "cell_type": "code",
      "source": [
        "celsius = float(input(\"Enter temperature in Celsius: \"))\n",
        "fahrenheit = (celsius * 9/5) + 32\n",
        "print(f\"{celsius} C is equal to {fahrenheit} F.\")"
      ],
      "metadata": {
        "colab": {
          "base_uri": "https://localhost:8080/"
        },
        "id": "GDumv2dChHMM",
        "outputId": "768f6f3f-557f-47b1-fad2-d094cee689b4"
      },
      "execution_count": null,
      "outputs": [
        {
          "output_type": "stream",
          "name": "stdout",
          "text": [
            "Enter temperature in Celsius: 37\n",
            "37.0 C is equal to 98.6 F.\n"
          ]
        }
      ]
    },
    {
      "cell_type": "code",
      "source": [
        "# working with numbers\n",
        "x = 20\n",
        "y = 50\n",
        "print(f'The addition two number x and y is is {x+y}.')"
      ],
      "metadata": {
        "colab": {
          "base_uri": "https://localhost:8080/"
        },
        "id": "uO7XU9-UhV3J",
        "outputId": "c4c9d649-56c2-4dd2-8068-17a8c9389b58"
      },
      "execution_count": null,
      "outputs": [
        {
          "output_type": "stream",
          "name": "stdout",
          "text": [
            "The addition two number x and y is is 70\n"
          ]
        }
      ]
    },
    {
      "cell_type": "markdown",
      "source": [
        "2.2 String\n",
        "- Strings are sequences of characters."
      ],
      "metadata": {
        "id": "jX5teOd-iVGK"
      }
    },
    {
      "cell_type": "code",
      "source": [
        "greeting = 'Nameste'\n",
        "print(greeting)"
      ],
      "metadata": {
        "colab": {
          "base_uri": "https://localhost:8080/"
        },
        "id": "-bn9OsPqhnBh",
        "outputId": "ff00e30f-07da-4c8d-e133-be51be39b549"
      },
      "execution_count": null,
      "outputs": [
        {
          "output_type": "stream",
          "name": "stdout",
          "text": [
            "Nameste\n"
          ]
        }
      ]
    },
    {
      "cell_type": "markdown",
      "source": [
        "Q. Create a program that takes a person's full name and formats it for a formal letter."
      ],
      "metadata": {
        "id": "4hhA5SxKip8D"
      }
    },
    {
      "cell_type": "code",
      "source": [
        "full_name =  input(\"Enter your full name: \")\n",
        "formatted_name = full_name.title()\n",
        "print(f\"Dear {formatted_name},\")"
      ],
      "metadata": {
        "colab": {
          "base_uri": "https://localhost:8080/"
        },
        "id": "2RlO0IXrimRR",
        "outputId": "c0215bda-dca3-4b07-cb0c-8407de5d03fb"
      },
      "execution_count": null,
      "outputs": [
        {
          "output_type": "stream",
          "name": "stdout",
          "text": [
            "Enter your full name: siddhant bhattarai\n",
            "Dear Siddhant Bhattarai,\n"
          ]
        }
      ]
    },
    {
      "cell_type": "code",
      "source": [
        "x = \"I am learning python.\"\n",
        "y = \"Python is awesome!!\"\n",
        "\n",
        "concatenated_string = x + ' ' + y\n",
        "print(concatenated_string)"
      ],
      "metadata": {
        "colab": {
          "base_uri": "https://localhost:8080/"
        },
        "id": "X1FytK2VjIve",
        "outputId": "326c969a-5b6a-4f6e-cb85-603f16df20c7"
      },
      "execution_count": null,
      "outputs": [
        {
          "output_type": "stream",
          "name": "stdout",
          "text": [
            "I am learning python. Python is awesome!!\n"
          ]
        }
      ]
    },
    {
      "cell_type": "code",
      "source": [
        "# String Methods\n",
        "upper_case = concatenated_string.upper()\n",
        "print(upper_case)"
      ],
      "metadata": {
        "colab": {
          "base_uri": "https://localhost:8080/"
        },
        "id": "tF-Qxh2CkUXx",
        "outputId": "b1459761-48ba-4e4b-85b9-4731a64a43ca"
      },
      "execution_count": null,
      "outputs": [
        {
          "output_type": "stream",
          "name": "stdout",
          "text": [
            "I AM LEARNING PYTHON. PYTHON IS AWESOME!!\n"
          ]
        }
      ]
    },
    {
      "cell_type": "code",
      "source": [
        "lower_case = concatenated_string.lower()\n",
        "print(lower_case)"
      ],
      "metadata": {
        "colab": {
          "base_uri": "https://localhost:8080/"
        },
        "id": "UiHUDLDiknDu",
        "outputId": "29e24156-5321-487c-8fef-29271118d3d2"
      },
      "execution_count": null,
      "outputs": [
        {
          "output_type": "stream",
          "name": "stdout",
          "text": [
            "i am learning python. python is awesome!!\n"
          ]
        }
      ]
    },
    {
      "cell_type": "code",
      "source": [
        "# string slicing exampes\n",
        "word = \"University of Sundarland\"\n",
        "sliced_word = word[4:10]\n",
        "print(\"Sliced word is:\", sliced_word)"
      ],
      "metadata": {
        "id": "I9NQLQYJkvPT",
        "colab": {
          "base_uri": "https://localhost:8080/"
        },
        "outputId": "5902c236-9be7-4b84-93bd-4d1c3dc27d5e"
      },
      "execution_count": 1,
      "outputs": [
        {
          "output_type": "stream",
          "name": "stdout",
          "text": [
            "Sliced word is: ersity\n"
          ]
        }
      ]
    },
    {
      "cell_type": "markdown",
      "source": [
        "2.3 Lists\n",
        "-  A list is a data structure in Python that is a mutable, or changeable, ordered sequence of elements. Each element or value that is inside of a list is called an item. Just as strings are defined as characters between quotes, lists are defined by having values between square brackets [ ] ."
      ],
      "metadata": {
        "id": "66ICcBEGgFXT"
      }
    },
    {
      "cell_type": "code",
      "source": [
        "# Create a list\n",
        "cities = ['Kathmandu', 'Pokhara', 'Narayangadh', 'Butwal']\n",
        "zip_code = [44600, 44400, 44200, 4100]\n",
        "print(cities)\n",
        "print(zip_code)"
      ],
      "metadata": {
        "colab": {
          "base_uri": "https://localhost:8080/"
        },
        "id": "flkfXgYJgJYC",
        "outputId": "f4899b36-cdf6-41bf-a256-ced9d7ee910f"
      },
      "execution_count": 3,
      "outputs": [
        {
          "output_type": "stream",
          "name": "stdout",
          "text": [
            "['Kathmandu', 'Pokhara', 'Narayangadh', 'Butwal']\n",
            "[44600, 44400, 44200, 4100]\n"
          ]
        }
      ]
    },
    {
      "cell_type": "markdown",
      "source": [
        "**Q. Create a program that allows users to manage a shopping list.**"
      ],
      "metadata": {
        "id": "ogr4H_swiGxe"
      }
    },
    {
      "cell_type": "code",
      "source": [
        "shopping_list = []\n",
        "while True:\n",
        "  item = input(\"Enter an item (or 'done' to finish): \")\n",
        "  if item.lower() == 'done':\n",
        "    break\n",
        "  shopping_list.append(item)\n",
        "\n",
        "print(\"Your shopping list:\")\n",
        "for item in shopping_list:\n",
        "  print(f\"- {item}\")"
      ],
      "metadata": {
        "colab": {
          "base_uri": "https://localhost:8080/"
        },
        "id": "EOAVOnyRhwJI",
        "outputId": "c6f5a74a-abbe-4e60-fa86-86d94e966866"
      },
      "execution_count": 4,
      "outputs": [
        {
          "output_type": "stream",
          "name": "stdout",
          "text": [
            "Enter an item (or 'done' to finish): Ball\n",
            "Enter an item (or 'done' to finish): Apple\n",
            "Enter an item (or 'done' to finish): Cat\n",
            "Enter an item (or 'done' to finish): Dog\n",
            "Enter an item (or 'done' to finish): done\n",
            "Your shopping list:\n",
            "- Ball\n",
            "- Apple\n",
            "- Cat\n",
            "- Dog\n"
          ]
        }
      ]
    },
    {
      "cell_type": "markdown",
      "source": [
        "2.4 Dictionary\n",
        "- In Python, dictionaries are mutable data structures that allow you to store key-value pairs. Dictionary can be created using the dict() constructor or curly braces' {}'. Once you have created a dictionary, you can add, remove, or update elements using the methods dict."
      ],
      "metadata": {
        "id": "oQ3IE8cNiGI9"
      }
    },
    {
      "cell_type": "code",
      "source": [
        "# Creating a dictionary\n",
        "person = {\n",
        "    \"name\": \"Jhon Wick\",\n",
        "    \"age\": 35,\n",
        "    \"city\": \"New York\"\n",
        "}\n",
        "print(person)"
      ],
      "metadata": {
        "colab": {
          "base_uri": "https://localhost:8080/"
        },
        "id": "6ZMuY4kLnv91",
        "outputId": "6c65b90f-8596-4928-c999-62ed277b4cb2"
      },
      "execution_count": 6,
      "outputs": [
        {
          "output_type": "stream",
          "name": "stdout",
          "text": [
            "{'name': 'Jhon Wick', 'age': 35, 'city': 'New York'}\n"
          ]
        }
      ]
    },
    {
      "cell_type": "markdown",
      "source": [
        "**Q. Create a simple contact book that stores names and phone numbers.**"
      ],
      "metadata": {
        "id": "fznG3tHbocaR"
      }
    },
    {
      "cell_type": "code",
      "source": [
        "contacts = {}\n",
        "while True:\n",
        "  name = input(\"Enter a name (or 'done' to finish): \")\n",
        "  if name.lower() == 'done':\n",
        "    break\n",
        "  phone = input(\"Enter phone number: \")\n",
        "  contacts[name] = phone\n",
        "print(\"\\nContact List:\")\n",
        "for name, phone in contacts.items():\n",
        "  print(f\"{name}: {phone}\")"
      ],
      "metadata": {
        "colab": {
          "base_uri": "https://localhost:8080/"
        },
        "id": "Jp_WNZAqoWOF",
        "outputId": "55125b4e-2aaa-4523-f186-5850d83df66d"
      },
      "execution_count": 7,
      "outputs": [
        {
          "output_type": "stream",
          "name": "stdout",
          "text": [
            "Enter a name (or 'done' to finish): Siddhant\n",
            "Enter phone number: 1234567890\n",
            "Enter a name (or 'done' to finish): Jhon\n",
            "Enter phone number: 0987654321\n",
            "Enter a name (or 'done' to finish): done\n",
            "\n",
            "Contact List:\n",
            "Siddhant: 1234567890\n",
            "Jhon: 0987654321\n"
          ]
        }
      ]
    },
    {
      "cell_type": "markdown",
      "source": [
        "**2.5 Boolean**\n",
        "- In general, a Boolean variable can have only two values - True or False. Or in other words, if a variable can have only these two values, we say that it's a Boolean variable. It's often used to represent the Truth value of any given expression. Numerically, True is equal to 1 and False is equal to 0."
      ],
      "metadata": {
        "id": "zLlov_k6qqw8"
      }
    },
    {
      "cell_type": "code",
      "source": [
        "is_sunny = False\n",
        "is_raining = True\n",
        "print(\"Is today sunny?\", is_sunny)"
      ],
      "metadata": {
        "colab": {
          "base_uri": "https://localhost:8080/"
        },
        "id": "hefGUxswpWo0",
        "outputId": "c6d6168b-f881-4375-df4f-6c7c36bd6b51"
      },
      "execution_count": 8,
      "outputs": [
        {
          "output_type": "stream",
          "name": "stdout",
          "text": [
            "Is today sunny? False\n"
          ]
        }
      ]
    },
    {
      "cell_type": "markdown",
      "source": [
        "**Q. Create a True/False quiz program.**\n",
        "\n"
      ],
      "metadata": {
        "id": "sNe9ovsyrMTK"
      }
    },
    {
      "cell_type": "code",
      "source": [
        "questions = [\n",
        "    (\"Python is a programming language.\", True),\n",
        "    (\"The Earth is flat.\", False),\n",
        "    (\"The height of Sagarmatha is 8848m\", True)\n",
        "]\n",
        "\n",
        "score = 0\n",
        "\n",
        "for question, correct_answer in questions:\n",
        "  user_answer = input(f\"{question} (True/False): \").lower() == 'true'\n",
        "  if user_answer == correct_answer:\n",
        "    print(\"Correct!\")\n",
        "    score += 1\n",
        "  else:\n",
        "    print(\"Incorrect!\")\n",
        "print(f\"You got {score} out of {len(questions)} correct.\")\n"
      ],
      "metadata": {
        "colab": {
          "base_uri": "https://localhost:8080/"
        },
        "id": "nVFM6wskrH1z",
        "outputId": "411c171f-4990-41c2-fb42-2f5a5e2826a4"
      },
      "execution_count": 10,
      "outputs": [
        {
          "output_type": "stream",
          "name": "stdout",
          "text": [
            "Python is a programming language. (True/False): True\n",
            "Correct!\n",
            "The Earth is flat. (True/False): True\n",
            "Incorrect!\n",
            "The height of Sagarmatha is 8848m (True/False): False\n",
            "Incorrect!\n",
            "You got 1 out of 3 correct.\n"
          ]
        }
      ]
    },
    {
      "cell_type": "markdown",
      "source": [
        "**2.6 Tuples**\n",
        "- Python tuples are a type of data structure that is very similar to lists. The main difference between the two is that tuples are immutable, meaning they cannot be changed once they are created. This makes them ideal for storing data that should not be modified, such as database records."
      ],
      "metadata": {
        "id": "_s2IXZmcvEIk"
      }
    },
    {
      "cell_type": "code",
      "source": [
        "# Creating tuples\n",
        "coordinates = (10, 20)\n",
        "rgb_color = (255, 0, 0)"
      ],
      "metadata": {
        "id": "elZSdBdus6j-"
      },
      "execution_count": 12,
      "outputs": []
    },
    {
      "cell_type": "markdown",
      "source": [
        "**Q. Create a program that calculates the distance between two points in a 2D plane.**"
      ],
      "metadata": {
        "id": "5tS3AWXqv09L"
      }
    },
    {
      "cell_type": "code",
      "source": [
        "import math\n",
        "\n",
        "def distance(point1, point2):\n",
        "  return math.sqrt((point1[0] - point2[0])**2 + (point1[1] - point2[1])**2)\n",
        "\n",
        "point_a = (3,4)\n",
        "point_b = (7, 8)\n",
        "print(f\"The distance between {point_a} and {point_b} is {distance(point_a, point_b):.2f}\")"
      ],
      "metadata": {
        "colab": {
          "base_uri": "https://localhost:8080/"
        },
        "id": "vMCukSGAvgU_",
        "outputId": "5c3d6cc5-62ae-40d3-c832-140d93f020c3"
      },
      "execution_count": 14,
      "outputs": [
        {
          "output_type": "stream",
          "name": "stdout",
          "text": [
            "The distance between (3, 4) and (7, 8) is 5.66\n"
          ]
        }
      ]
    },
    {
      "cell_type": "markdown",
      "source": [
        "## 3. Comparison Operators\n",
        "\n",
        "Comparison operators are used to compare values.\n",
        "\n",
        "- `==`: Equal to\n",
        "- `!=`: Not equal to\n",
        "- `<`: Less than\n",
        "- `>`: Greater than\n",
        "- `<=`: Less than or equal to\n",
        "- `>=`: Greater than or equal to"
      ],
      "metadata": {
        "id": "NPKiEIOIxgYC"
      }
    },
    {
      "cell_type": "markdown",
      "source": [
        "**Q. Create a simple number guessing game using comparison operators.**"
      ],
      "metadata": {
        "id": "hVU1FhqIyF7M"
      }
    },
    {
      "cell_type": "code",
      "source": [
        "import random\n",
        "secret_number = random.randint(1,100)\n",
        "attempts = 0\n",
        "\n",
        "while True:\n",
        "  guess = int(input(\"Guess the number (1-100): \"))\n",
        "  attempts += 1\n",
        "\n",
        "  if guess < secret_number:\n",
        "    print(\"Too low!!\")\n",
        "  elif guess > secret_number:\n",
        "    print(\"Too high!\")\n",
        "  else:\n",
        "    print(f\"Congractulations! You guessed the number in {attempts} attempts.\")\n",
        "    break"
      ],
      "metadata": {
        "colab": {
          "base_uri": "https://localhost:8080/"
        },
        "id": "XAqHxb5sxF24",
        "outputId": "894aa094-a5bf-48a8-90e3-aac5f95d6715"
      },
      "execution_count": 16,
      "outputs": [
        {
          "output_type": "stream",
          "name": "stdout",
          "text": [
            "Guess the number (1-100): 100\n",
            "Too high!\n",
            "Guess the number (1-100): 90\n",
            "Too high!\n",
            "Guess the number (1-100): 78\n",
            "Too high!\n",
            "Guess the number (1-100): 50\n",
            "Too high!\n",
            "Guess the number (1-100): 5\n",
            "Too low!!\n",
            "Guess the number (1-100): 20\n",
            "Too high!\n",
            "Guess the number (1-100): 15\n",
            "Too low!!\n",
            "Guess the number (1-100): 17\n",
            "Too low!!\n",
            "Guess the number (1-100): 19\n",
            "Congractulations! You guessed the number in 9 attempts.\n"
          ]
        }
      ]
    },
    {
      "cell_type": "code",
      "source": [],
      "metadata": {
        "id": "JSVSTXJmzLY-"
      },
      "execution_count": null,
      "outputs": []
    }
  ]
}