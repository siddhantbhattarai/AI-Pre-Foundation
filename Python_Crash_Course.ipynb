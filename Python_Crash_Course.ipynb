{
  "nbformat": 4,
  "nbformat_minor": 0,
  "metadata": {
    "colab": {
      "provenance": [],
      "authorship_tag": "ABX9TyM1TgDDz6Tjvpu9wlu5rzC0",
      "include_colab_link": true
    },
    "kernelspec": {
      "name": "python3",
      "display_name": "Python 3"
    },
    "language_info": {
      "name": "python"
    }
  },
  "cells": [
    {
      "cell_type": "markdown",
      "metadata": {
        "id": "view-in-github",
        "colab_type": "text"
      },
      "source": [
        "<a href=\"https://colab.research.google.com/github/siddhantbhattarai/AI-Pre-Foundation/blob/main/Python_Crash_Course.ipynb\" target=\"_parent\"><img src=\"https://colab.research.google.com/assets/colab-badge.svg\" alt=\"Open In Colab\"/></a>"
      ]
    },
    {
      "cell_type": "markdown",
      "source": [
        "Python is a programming language that lets you work quickly and integrate systems more effectively."
      ],
      "metadata": {
        "id": "8VvqP7HOXHAT"
      }
    },
    {
      "cell_type": "markdown",
      "source": [
        "#### Python Crash Course\n",
        "This notebook will just go through the basic topics in order:\n",
        "\n",
        "- Print Statements\n",
        "- Data types\n",
        "    - Numbers\n",
        "    - Strings\n",
        "    - Lists\n",
        "    - Dictionaries\n",
        "    - Booleans\n",
        "    - Tuples\n",
        "    - Sets\n",
        "- Comparison Operators\n",
        "- if,elif, else Statements\n",
        "- for Loops\n",
        "- while Loops"
      ],
      "metadata": {
        "id": "sfFua-b_V98E"
      }
    },
    {
      "cell_type": "markdown",
      "source": [
        "**1. Print Statements**"
      ],
      "metadata": {
        "id": "WD1_ITlwWqD1"
      }
    },
    {
      "cell_type": "code",
      "execution_count": null,
      "metadata": {
        "colab": {
          "base_uri": "https://localhost:8080/"
        },
        "id": "-KSm3SGnV5Uc",
        "outputId": "b1ff960f-6a35-452f-dc6f-b0f09edf3d26"
      },
      "outputs": [
        {
          "output_type": "stream",
          "name": "stdout",
          "text": [
            "Let's learn the python for Machine Learning!!\n"
          ]
        }
      ],
      "source": [
        "# Let's learn about the print statements\n",
        "print(\"Let's learn the python for Machine Learning!!\")"
      ]
    },
    {
      "cell_type": "code",
      "source": [
        "# Let's create two variables and print them\n",
        "x =18\n",
        "y = \"Dilasha\"\n",
        "print(x)\n",
        "print(y)"
      ],
      "metadata": {
        "colab": {
          "base_uri": "https://localhost:8080/"
        },
        "id": "kjTWTX6kXbe-",
        "outputId": "958897f8-da12-4e8a-ae21-92af3fb0019b"
      },
      "execution_count": null,
      "outputs": [
        {
          "output_type": "stream",
          "name": "stdout",
          "text": [
            "18\n",
            "Dilasha\n"
          ]
        }
      ]
    },
    {
      "cell_type": "code",
      "source": [
        "name = input(\"What's your name? \")\n",
        "print(f\"Hi, {name}! Welcome to our Python Crsah Course.\")"
      ],
      "metadata": {
        "colab": {
          "base_uri": "https://localhost:8080/"
        },
        "id": "lntIlcY6ePIn",
        "outputId": "67fa5df3-c528-4365-baa8-da0b6b48741b"
      },
      "execution_count": null,
      "outputs": [
        {
          "output_type": "stream",
          "name": "stdout",
          "text": [
            "What's your name? Aaron\n",
            "Hi, Aaron! Welcome to our Python Crsah Course.\n"
          ]
        }
      ]
    },
    {
      "cell_type": "code",
      "source": [
        "# let's print the statement with string formatting method\n",
        "print(f\"{y} is {x} years old.\")"
      ],
      "metadata": {
        "colab": {
          "base_uri": "https://localhost:8080/"
        },
        "id": "f9zdcVcvX9bi",
        "outputId": "cc01bd4d-5dfb-4567-f372-cadbaa5d698a"
      },
      "execution_count": null,
      "outputs": [
        {
          "output_type": "stream",
          "name": "stdout",
          "text": [
            "Dilasha is 18 years old.\n"
          ]
        }
      ]
    },
    {
      "cell_type": "code",
      "source": [
        "# let's use format method\n",
        "print(\"{} is {} years old.\" .format(y,x))"
      ],
      "metadata": {
        "colab": {
          "base_uri": "https://localhost:8080/"
        },
        "id": "_kY5cl-KYToT",
        "outputId": "494779d1-ee61-4d40-9e49-d698e226f9f8"
      },
      "execution_count": null,
      "outputs": [
        {
          "output_type": "stream",
          "name": "stdout",
          "text": [
            "Dilasha is 18 years old.\n"
          ]
        }
      ]
    },
    {
      "cell_type": "code",
      "source": [
        "# using concatenation method\n",
        "print(y + \" is \" + str(x) + \" years old.\")"
      ],
      "metadata": {
        "colab": {
          "base_uri": "https://localhost:8080/"
        },
        "id": "yMJ8CFgCYyur",
        "outputId": "48c69286-307c-4f4c-e2a9-bd726d0cfc5f"
      },
      "execution_count": null,
      "outputs": [
        {
          "output_type": "stream",
          "name": "stdout",
          "text": [
            "Dilasha is 18 years old.\n"
          ]
        }
      ]
    },
    {
      "cell_type": "code",
      "source": [
        "# Using older % string formatting method\n",
        "print(\"%s is %d years old.\" %(y,x))"
      ],
      "metadata": {
        "colab": {
          "base_uri": "https://localhost:8080/"
        },
        "id": "PE2pYMATZhSw",
        "outputId": "853e8187-f9c8-4bf0-bdf3-78a34326528f"
      },
      "execution_count": null,
      "outputs": [
        {
          "output_type": "stream",
          "name": "stdout",
          "text": [
            "Dilasha is 18 years old.\n"
          ]
        }
      ]
    },
    {
      "cell_type": "markdown",
      "source": [
        "**2. Data Types**\n",
        "- A data type is an attribute associated with a piece of data that tells a computer system how to interpret its value. Understanding data types ensures that data is collected in the preferred format and the value of each property is as expected."
      ],
      "metadata": {
        "id": "ByQZFGIddfga"
      }
    },
    {
      "cell_type": "markdown",
      "source": [
        "**2.1 Numbers**"
      ],
      "metadata": {
        "id": "J5bMF2AWhCbF"
      }
    },
    {
      "cell_type": "markdown",
      "source": [
        "Q. Create a program that converts temperatures between Celsius and Fahrenheit."
      ],
      "metadata": {
        "id": "H2_ntnt0e0F8"
      }
    },
    {
      "cell_type": "code",
      "source": [
        "celsius = float(input(\"Enter temperature in Celsius: \"))\n",
        "fahrenheit = (celsius * 9/5) + 32\n",
        "print(f\"{celsius} C is equal to {fahrenheit} F.\")"
      ],
      "metadata": {
        "colab": {
          "base_uri": "https://localhost:8080/"
        },
        "id": "GDumv2dChHMM",
        "outputId": "768f6f3f-557f-47b1-fad2-d094cee689b4"
      },
      "execution_count": null,
      "outputs": [
        {
          "output_type": "stream",
          "name": "stdout",
          "text": [
            "Enter temperature in Celsius: 37\n",
            "37.0 C is equal to 98.6 F.\n"
          ]
        }
      ]
    },
    {
      "cell_type": "code",
      "source": [
        "# working with numbers\n",
        "x = 20\n",
        "y = 50\n",
        "print(f'The addition two number x and y is is {x+y}.')"
      ],
      "metadata": {
        "colab": {
          "base_uri": "https://localhost:8080/"
        },
        "id": "uO7XU9-UhV3J",
        "outputId": "c4c9d649-56c2-4dd2-8068-17a8c9389b58"
      },
      "execution_count": null,
      "outputs": [
        {
          "output_type": "stream",
          "name": "stdout",
          "text": [
            "The addition two number x and y is is 70\n"
          ]
        }
      ]
    },
    {
      "cell_type": "markdown",
      "source": [
        "**2.2 String**\n",
        "- Strings are sequences of characters."
      ],
      "metadata": {
        "id": "jX5teOd-iVGK"
      }
    },
    {
      "cell_type": "code",
      "source": [
        "greeting = 'Nameste'\n",
        "print(greeting)"
      ],
      "metadata": {
        "colab": {
          "base_uri": "https://localhost:8080/"
        },
        "id": "-bn9OsPqhnBh",
        "outputId": "ff00e30f-07da-4c8d-e133-be51be39b549"
      },
      "execution_count": null,
      "outputs": [
        {
          "output_type": "stream",
          "name": "stdout",
          "text": [
            "Nameste\n"
          ]
        }
      ]
    },
    {
      "cell_type": "markdown",
      "source": [
        "Q. Create a program that takes a person's full name and formats it for a formal letter."
      ],
      "metadata": {
        "id": "4hhA5SxKip8D"
      }
    },
    {
      "cell_type": "code",
      "source": [
        "full_name =  input(\"Enter your full name: \")\n",
        "formatted_name = full_name.title()\n",
        "print(f\"Dear {formatted_name},\")"
      ],
      "metadata": {
        "colab": {
          "base_uri": "https://localhost:8080/"
        },
        "id": "2RlO0IXrimRR",
        "outputId": "c0215bda-dca3-4b07-cb0c-8407de5d03fb"
      },
      "execution_count": null,
      "outputs": [
        {
          "output_type": "stream",
          "name": "stdout",
          "text": [
            "Enter your full name: siddhant bhattarai\n",
            "Dear Siddhant Bhattarai,\n"
          ]
        }
      ]
    },
    {
      "cell_type": "code",
      "source": [
        "x = \"I am learning python.\"\n",
        "y = \"Python is awesome!!\"\n",
        "\n",
        "concatenated_string = x + ' ' + y\n",
        "print(concatenated_string)"
      ],
      "metadata": {
        "colab": {
          "base_uri": "https://localhost:8080/"
        },
        "id": "X1FytK2VjIve",
        "outputId": "326c969a-5b6a-4f6e-cb85-603f16df20c7"
      },
      "execution_count": null,
      "outputs": [
        {
          "output_type": "stream",
          "name": "stdout",
          "text": [
            "I am learning python. Python is awesome!!\n"
          ]
        }
      ]
    },
    {
      "cell_type": "code",
      "source": [
        "# String Methods\n",
        "upper_case = concatenated_string.upper()\n",
        "print(upper_case)"
      ],
      "metadata": {
        "colab": {
          "base_uri": "https://localhost:8080/"
        },
        "id": "tF-Qxh2CkUXx",
        "outputId": "b1459761-48ba-4e4b-85b9-4731a64a43ca"
      },
      "execution_count": null,
      "outputs": [
        {
          "output_type": "stream",
          "name": "stdout",
          "text": [
            "I AM LEARNING PYTHON. PYTHON IS AWESOME!!\n"
          ]
        }
      ]
    },
    {
      "cell_type": "code",
      "source": [
        "lower_case = concatenated_string.lower()\n",
        "print(lower_case)"
      ],
      "metadata": {
        "colab": {
          "base_uri": "https://localhost:8080/"
        },
        "id": "UiHUDLDiknDu",
        "outputId": "29e24156-5321-487c-8fef-29271118d3d2"
      },
      "execution_count": null,
      "outputs": [
        {
          "output_type": "stream",
          "name": "stdout",
          "text": [
            "i am learning python. python is awesome!!\n"
          ]
        }
      ]
    },
    {
      "cell_type": "code",
      "source": [
        "# string slicing exampes\n",
        "word = \"University of Sundarland\"\n",
        "sliced_word = word[4:10]\n",
        "print(\"Sliced word is:\", sliced_word)"
      ],
      "metadata": {
        "id": "I9NQLQYJkvPT",
        "colab": {
          "base_uri": "https://localhost:8080/"
        },
        "outputId": "5902c236-9be7-4b84-93bd-4d1c3dc27d5e"
      },
      "execution_count": null,
      "outputs": [
        {
          "output_type": "stream",
          "name": "stdout",
          "text": [
            "Sliced word is: ersity\n"
          ]
        }
      ]
    },
    {
      "cell_type": "markdown",
      "source": [
        "**2.3 Lists**\n",
        "-  A list is a data structure in Python that is a mutable, or changeable, ordered sequence of elements. Each element or value that is inside of a list is called an item. Just as strings are defined as characters between quotes, lists are defined by having values between square brackets [ ] ."
      ],
      "metadata": {
        "id": "66ICcBEGgFXT"
      }
    },
    {
      "cell_type": "code",
      "source": [
        "# Create a list\n",
        "cities = ['Kathmandu', 'Pokhara', 'Narayangadh', 'Butwal']\n",
        "zip_code = [44600, 44400, 44200, 4100]\n",
        "print(cities)\n",
        "print(zip_code)"
      ],
      "metadata": {
        "colab": {
          "base_uri": "https://localhost:8080/"
        },
        "id": "flkfXgYJgJYC",
        "outputId": "f4899b36-cdf6-41bf-a256-ced9d7ee910f"
      },
      "execution_count": null,
      "outputs": [
        {
          "output_type": "stream",
          "name": "stdout",
          "text": [
            "['Kathmandu', 'Pokhara', 'Narayangadh', 'Butwal']\n",
            "[44600, 44400, 44200, 4100]\n"
          ]
        }
      ]
    },
    {
      "cell_type": "markdown",
      "source": [
        "**Q. Create a program that allows users to manage a shopping list.**"
      ],
      "metadata": {
        "id": "ogr4H_swiGxe"
      }
    },
    {
      "cell_type": "code",
      "source": [
        "shopping_list = []\n",
        "while True:\n",
        "  item = input(\"Enter an item (or 'done' to finish): \")\n",
        "  if item.lower() == 'done':\n",
        "    break\n",
        "  shopping_list.append(item)\n",
        "\n",
        "print(\"Your shopping list:\")\n",
        "for item in shopping_list:\n",
        "  print(f\"- {item}\")"
      ],
      "metadata": {
        "colab": {
          "base_uri": "https://localhost:8080/"
        },
        "id": "EOAVOnyRhwJI",
        "outputId": "c6f5a74a-abbe-4e60-fa86-86d94e966866"
      },
      "execution_count": null,
      "outputs": [
        {
          "output_type": "stream",
          "name": "stdout",
          "text": [
            "Enter an item (or 'done' to finish): Ball\n",
            "Enter an item (or 'done' to finish): Apple\n",
            "Enter an item (or 'done' to finish): Cat\n",
            "Enter an item (or 'done' to finish): Dog\n",
            "Enter an item (or 'done' to finish): done\n",
            "Your shopping list:\n",
            "- Ball\n",
            "- Apple\n",
            "- Cat\n",
            "- Dog\n"
          ]
        }
      ]
    },
    {
      "cell_type": "markdown",
      "source": [
        "**2.4 Dictionary**\n",
        "- In Python, dictionaries are mutable data structures that allow you to store key-value pairs. Dictionary can be created using the dict() constructor or curly braces' {}'. Once you have created a dictionary, you can add, remove, or update elements using the methods dict."
      ],
      "metadata": {
        "id": "oQ3IE8cNiGI9"
      }
    },
    {
      "cell_type": "code",
      "source": [
        "# Creating a dictionary\n",
        "person = {\n",
        "    \"name\": \"Jhon Wick\",\n",
        "    \"age\": 35,\n",
        "    \"city\": \"New York\"\n",
        "}\n",
        "print(person)"
      ],
      "metadata": {
        "colab": {
          "base_uri": "https://localhost:8080/"
        },
        "id": "6ZMuY4kLnv91",
        "outputId": "6c65b90f-8596-4928-c999-62ed277b4cb2"
      },
      "execution_count": null,
      "outputs": [
        {
          "output_type": "stream",
          "name": "stdout",
          "text": [
            "{'name': 'Jhon Wick', 'age': 35, 'city': 'New York'}\n"
          ]
        }
      ]
    },
    {
      "cell_type": "markdown",
      "source": [
        "**Q. Create a simple contact book that stores names and phone numbers.**"
      ],
      "metadata": {
        "id": "fznG3tHbocaR"
      }
    },
    {
      "cell_type": "code",
      "source": [
        "contacts = {}\n",
        "while True:\n",
        "  name = input(\"Enter a name (or 'done' to finish): \")\n",
        "  if name.lower() == 'done':\n",
        "    break\n",
        "  phone = input(\"Enter phone number: \")\n",
        "  contacts[name] = phone\n",
        "print(\"\\nContact List:\")\n",
        "for name, phone in contacts.items():\n",
        "  print(f\"{name}: {phone}\")"
      ],
      "metadata": {
        "colab": {
          "base_uri": "https://localhost:8080/"
        },
        "id": "Jp_WNZAqoWOF",
        "outputId": "55125b4e-2aaa-4523-f186-5850d83df66d"
      },
      "execution_count": null,
      "outputs": [
        {
          "output_type": "stream",
          "name": "stdout",
          "text": [
            "Enter a name (or 'done' to finish): Siddhant\n",
            "Enter phone number: 1234567890\n",
            "Enter a name (or 'done' to finish): Jhon\n",
            "Enter phone number: 0987654321\n",
            "Enter a name (or 'done' to finish): done\n",
            "\n",
            "Contact List:\n",
            "Siddhant: 1234567890\n",
            "Jhon: 0987654321\n"
          ]
        }
      ]
    },
    {
      "cell_type": "markdown",
      "source": [
        "**2.5 Boolean**\n",
        "- In general, a Boolean variable can have only two values - True or False. Or in other words, if a variable can have only these two values, we say that it's a Boolean variable. It's often used to represent the Truth value of any given expression. Numerically, True is equal to 1 and False is equal to 0."
      ],
      "metadata": {
        "id": "zLlov_k6qqw8"
      }
    },
    {
      "cell_type": "code",
      "source": [
        "is_sunny = False\n",
        "is_raining = True\n",
        "print(\"Is today sunny?\", is_sunny)"
      ],
      "metadata": {
        "colab": {
          "base_uri": "https://localhost:8080/"
        },
        "id": "hefGUxswpWo0",
        "outputId": "c6d6168b-f881-4375-df4f-6c7c36bd6b51"
      },
      "execution_count": null,
      "outputs": [
        {
          "output_type": "stream",
          "name": "stdout",
          "text": [
            "Is today sunny? False\n"
          ]
        }
      ]
    },
    {
      "cell_type": "markdown",
      "source": [
        "**Q. Create a True/False quiz program.**\n",
        "\n"
      ],
      "metadata": {
        "id": "sNe9ovsyrMTK"
      }
    },
    {
      "cell_type": "code",
      "source": [
        "questions = [\n",
        "    (\"Python is a programming language.\", True),\n",
        "    (\"The Earth is flat.\", False),\n",
        "    (\"The height of Sagarmatha is 8848m\", True)\n",
        "]\n",
        "\n",
        "score = 0\n",
        "\n",
        "for question, correct_answer in questions:\n",
        "  user_answer = input(f\"{question} (True/False): \").lower() == 'true'\n",
        "  if user_answer == correct_answer:\n",
        "    print(\"Correct!\")\n",
        "    score += 1\n",
        "  else:\n",
        "    print(\"Incorrect!\")\n",
        "print(f\"You got {score} out of {len(questions)} correct.\")\n"
      ],
      "metadata": {
        "colab": {
          "base_uri": "https://localhost:8080/"
        },
        "id": "nVFM6wskrH1z",
        "outputId": "411c171f-4990-41c2-fb42-2f5a5e2826a4"
      },
      "execution_count": null,
      "outputs": [
        {
          "output_type": "stream",
          "name": "stdout",
          "text": [
            "Python is a programming language. (True/False): True\n",
            "Correct!\n",
            "The Earth is flat. (True/False): True\n",
            "Incorrect!\n",
            "The height of Sagarmatha is 8848m (True/False): False\n",
            "Incorrect!\n",
            "You got 1 out of 3 correct.\n"
          ]
        }
      ]
    },
    {
      "cell_type": "markdown",
      "source": [
        "**2.6 Tuples**\n",
        "- Python tuples are a type of data structure that is very similar to lists. The main difference between the two is that tuples are immutable, meaning they cannot be changed once they are created. This makes them ideal for storing data that should not be modified, such as database records."
      ],
      "metadata": {
        "id": "_s2IXZmcvEIk"
      }
    },
    {
      "cell_type": "code",
      "source": [
        "# Creating tuples\n",
        "coordinates = (10, 20)\n",
        "rgb_color = (255, 0, 0)"
      ],
      "metadata": {
        "id": "elZSdBdus6j-"
      },
      "execution_count": null,
      "outputs": []
    },
    {
      "cell_type": "markdown",
      "source": [
        "**Q. Create a program that calculates the distance between two points in a 2D plane.**"
      ],
      "metadata": {
        "id": "5tS3AWXqv09L"
      }
    },
    {
      "cell_type": "code",
      "source": [
        "import math\n",
        "\n",
        "def distance(point1, point2):\n",
        "  return math.sqrt((point1[0] - point2[0])**2 + (point1[1] - point2[1])**2)\n",
        "\n",
        "point_a = (3,4)\n",
        "point_b = (7, 8)\n",
        "print(f\"The distance between {point_a} and {point_b} is {distance(point_a, point_b):.2f}\")"
      ],
      "metadata": {
        "colab": {
          "base_uri": "https://localhost:8080/"
        },
        "id": "vMCukSGAvgU_",
        "outputId": "5c3d6cc5-62ae-40d3-c832-140d93f020c3"
      },
      "execution_count": null,
      "outputs": [
        {
          "output_type": "stream",
          "name": "stdout",
          "text": [
            "The distance between (3, 4) and (7, 8) is 5.66\n"
          ]
        }
      ]
    },
    {
      "cell_type": "markdown",
      "source": [
        "## 3. Comparison Operators\n",
        "\n",
        "Comparison operators are used to compare values.\n",
        "\n",
        "- `==`: Equal to\n",
        "- `!=`: Not equal to\n",
        "- `<`: Less than\n",
        "- `>`: Greater than\n",
        "- `<=`: Less than or equal to\n",
        "- `>=`: Greater than or equal to"
      ],
      "metadata": {
        "id": "NPKiEIOIxgYC"
      }
    },
    {
      "cell_type": "markdown",
      "source": [
        "**Q. Create a simple number guessing game using comparison operators.**"
      ],
      "metadata": {
        "id": "hVU1FhqIyF7M"
      }
    },
    {
      "cell_type": "code",
      "source": [
        "import random\n",
        "secret_number = random.randint(1,100)\n",
        "attempts = 0\n",
        "\n",
        "while True:\n",
        "  guess = int(input(\"Guess the number (1-100): \"))\n",
        "  attempts += 1\n",
        "\n",
        "  if guess < secret_number:\n",
        "    print(\"Too low!!\")\n",
        "  elif guess > secret_number:\n",
        "    print(\"Too high!\")\n",
        "  else:\n",
        "    print(f\"Congractulations! You guessed the number in {attempts} attempts.\")\n",
        "    break"
      ],
      "metadata": {
        "colab": {
          "base_uri": "https://localhost:8080/"
        },
        "id": "XAqHxb5sxF24",
        "outputId": "894aa094-a5bf-48a8-90e3-aac5f95d6715"
      },
      "execution_count": null,
      "outputs": [
        {
          "output_type": "stream",
          "name": "stdout",
          "text": [
            "Guess the number (1-100): 100\n",
            "Too high!\n",
            "Guess the number (1-100): 90\n",
            "Too high!\n",
            "Guess the number (1-100): 78\n",
            "Too high!\n",
            "Guess the number (1-100): 50\n",
            "Too high!\n",
            "Guess the number (1-100): 5\n",
            "Too low!!\n",
            "Guess the number (1-100): 20\n",
            "Too high!\n",
            "Guess the number (1-100): 15\n",
            "Too low!!\n",
            "Guess the number (1-100): 17\n",
            "Too low!!\n",
            "Guess the number (1-100): 19\n",
            "Congractulations! You guessed the number in 9 attempts.\n"
          ]
        }
      ]
    },
    {
      "cell_type": "markdown",
      "source": [
        "**4. Conditional Statements**\n",
        "- if,elif, else Statements\n",
        "\n",
        "- Conditional statements (if, else, and elif) are fundamental programming constructs that allow you to control the flow of your program based on conditions that you specify. They provide a way to make decisions in your program and execute different code based on those decisions."
      ],
      "metadata": {
        "id": "4rfy67Xy53cF"
      }
    },
    {
      "cell_type": "markdown",
      "source": [
        "**Example 1: Checking if a Number is Positive, Negative, or Zero**\n"
      ],
      "metadata": {
        "id": "eXUcMT8m9FAo"
      }
    },
    {
      "cell_type": "code",
      "source": [
        "# Define a number\n",
        "number = int(input(\"Enter a number: \"))  # Convert input to an integer\n",
        "\n",
        "# Check if the number is positive, negative, or zero\n",
        "if number > 0:\n",
        "    print(\"The number is positive.\")\n",
        "elif number < 0:\n",
        "    print(\"The number is negative.\")\n",
        "else:\n",
        "    print(\"The number is zero.\")\n"
      ],
      "metadata": {
        "id": "CZmuTzmL6t20",
        "outputId": "afb1e279-7d12-4c2c-f5a3-1f2cfe71adc1",
        "colab": {
          "base_uri": "https://localhost:8080/"
        }
      },
      "execution_count": null,
      "outputs": [
        {
          "output_type": "stream",
          "name": "stdout",
          "text": [
            "Enter a number: 10\n",
            "The number is positive.\n"
          ]
        }
      ]
    },
    {
      "cell_type": "markdown",
      "source": [
        "**Example 2: Checking Eligibility for a Discount Based on Age**"
      ],
      "metadata": {
        "id": "vBPIcrho9mbj"
      }
    },
    {
      "cell_type": "code",
      "source": [
        "# Define a person's age\n",
        "age = int(input(\"Enter your age: \"))\n",
        "\n",
        "# Check eligibility for a discount based on age\n",
        "if age < 18:\n",
        "    print(\"You are not eligible for a discount.\")\n",
        "elif age >= 60:\n",
        "    print(\"You qualify for a senior citizen discount.\")\n",
        "else:\n",
        "    print(\"You are eligible for a regular discount.\")\n"
      ],
      "metadata": {
        "id": "s1uyjVlD6tt8",
        "outputId": "86ed5da4-91ab-4821-831f-2afd40663827",
        "colab": {
          "base_uri": "https://localhost:8080/"
        }
      },
      "execution_count": null,
      "outputs": [
        {
          "output_type": "stream",
          "name": "stdout",
          "text": [
            "Enter your age: 20\n",
            "You are eligible for a regular discount.\n"
          ]
        }
      ]
    },
    {
      "cell_type": "markdown",
      "source": [
        "**Example 3: Determining the Grade from a Score**"
      ],
      "metadata": {
        "id": "FXOPQgg-91cm"
      }
    },
    {
      "cell_type": "code",
      "source": [
        "# Define a student's score\n",
        "score = int(input(\"Enter your score: \"))\n",
        "\n",
        "# Determine the grade based on the score\n",
        "if score >= 90:\n",
        "    grade = \"A\"\n",
        "elif score >= 80:\n",
        "    grade = \"B\"\n",
        "elif score >= 70:\n",
        "    grade = \"C\"\n",
        "elif score >= 60:\n",
        "    grade = \"D\"\n",
        "else:\n",
        "    grade = \"F\"\n",
        "\n",
        "print(f\"Your grade is: {grade}\")\n"
      ],
      "metadata": {
        "id": "9nTkGyWL6tjN",
        "outputId": "a54a66be-394a-47a7-84ac-6427bae58abc",
        "colab": {
          "base_uri": "https://localhost:8080/"
        }
      },
      "execution_count": null,
      "outputs": [
        {
          "output_type": "stream",
          "name": "stdout",
          "text": [
            "Enter your score: 85\n",
            "Your grade is: B\n"
          ]
        }
      ]
    },
    {
      "cell_type": "markdown",
      "source": [
        "**5. Loops**\n",
        "- while Loops\n",
        "- For Loops\n",
        "- Loops are a fundamental programming concept used to repeat a block of code multiple times. Python provides two main types of loops: while loops and for loops."
      ],
      "metadata": {
        "id": "VuN56E5o5_Az"
      }
    },
    {
      "cell_type": "markdown",
      "source": [
        "**Example 1: Calculating the Sum of All Items in a Shopping Cart**\n",
        "- Imagine you have a list representing the prices of items in a shopping cart, and you want to calculate the total cost."
      ],
      "metadata": {
        "id": "mxlwC7RU614q"
      }
    },
    {
      "cell_type": "code",
      "source": [
        "# List of item prices\n",
        "shopping_cart = [12.99, 23.45, 9.99, 5.49, 3.99]\n",
        "\n",
        "# Initialize total cost\n",
        "total_cost = 0\n",
        "\n",
        "# Iterate over each item in the shopping cart\n",
        "for price in shopping_cart:\n",
        "    total_cost += price\n",
        "\n",
        "# Print the total cost with two decimal places\n",
        "print(f\"Total cost of items in the cart is: {total_cost:.2f}\")\n"
      ],
      "metadata": {
        "id": "eX19ex6Q6GMv",
        "outputId": "18112e83-7ef7-4406-aed5-05e4605f20cd",
        "colab": {
          "base_uri": "https://localhost:8080/"
        }
      },
      "execution_count": null,
      "outputs": [
        {
          "output_type": "stream",
          "name": "stdout",
          "text": [
            "Total cost of items in the cart is: 55.91\n"
          ]
        }
      ]
    },
    {
      "cell_type": "markdown",
      "source": [
        "**Example 2: Finding the First Number Greater Than a Threshold**\n",
        "- Suppose you have a list of temperatures recorded throughout the day, and you want to find the first temperature that exceeds a certain threshold.\n",
        "\n"
      ],
      "metadata": {
        "id": "q5bKjox97esg"
      }
    },
    {
      "cell_type": "code",
      "source": [
        "# List of temperatures\n",
        "temperatures = [22, 24, 19, 30, 21, 27, 25]\n",
        "\n",
        "# Threshold temperature\n",
        "threshold = 25\n",
        "\n",
        "# Initialize variable to store the first temperature above threshold\n",
        "first_above_threshold = None\n",
        "\n",
        "# Iterate over the temperatures\n",
        "for temp in temperatures:\n",
        "    if temp > threshold:\n",
        "        first_above_threshold = temp\n",
        "        break  # Exit the loop once the condition is met\n",
        "\n",
        "# Print the first temperature above threshold\n",
        "print(\"The first temperature above\", threshold, \"is:\", first_above_threshold)\n"
      ],
      "metadata": {
        "id": "eQ-QVQN76_Xz",
        "outputId": "67aa715f-8e3d-4ee0-e8bd-31e039af1600",
        "colab": {
          "base_uri": "https://localhost:8080/"
        }
      },
      "execution_count": null,
      "outputs": [
        {
          "output_type": "stream",
          "name": "stdout",
          "text": [
            "The first temperature above 25 is: 30\n"
          ]
        }
      ]
    },
    {
      "cell_type": "markdown",
      "source": [
        "**Example 3: Counting the Number of Words in a Sentence**\n",
        "- Suppose you have a sentence and you want to count the number of words in it."
      ],
      "metadata": {
        "id": "1eYHUaAS7onl"
      }
    },
    {
      "cell_type": "code",
      "source": [
        "# Input sentence\n",
        "sentence = \"Python is a powerful programming language\"\n",
        "\n",
        "# Split the sentence into words\n",
        "words = sentence.split()\n",
        "\n",
        "# Initialize word count\n",
        "word_count = 0\n",
        "\n",
        "# Iterate over the words and count them\n",
        "for word in words:\n",
        "    word_count += 1\n",
        "\n",
        "# Print the word count\n",
        "print(\"The number of words in the sentence is:\", word_count)\n"
      ],
      "metadata": {
        "id": "mt3jhxfm7nQ7",
        "outputId": "68b9e859-0506-41dd-963b-065244b434f7",
        "colab": {
          "base_uri": "https://localhost:8080/"
        }
      },
      "execution_count": null,
      "outputs": [
        {
          "output_type": "stream",
          "name": "stdout",
          "text": [
            "The number of words in the sentence is: 6\n"
          ]
        }
      ]
    },
    {
      "cell_type": "markdown",
      "source": [
        "**Example 4: Calculating Factorials**\n",
        "- A factorial of a number n is the product of all positive integers less than or equal to n. Write a program to calculate the factorial of a given number using a while loop."
      ],
      "metadata": {
        "id": "3FQN_lKO7ztd"
      }
    },
    {
      "cell_type": "code",
      "source": [
        "# Number to calculate factorial of\n",
        "n = 5\n",
        "\n",
        "# Initialize factorial result\n",
        "factorial = 1\n",
        "\n",
        "# Initialize counter\n",
        "i = n\n",
        "\n",
        "# Use while loop to calculate factorial\n",
        "while i > 0:\n",
        "    factorial *= i\n",
        "    i -= 1\n",
        "\n",
        "# Print the factorial result\n",
        "print(\"Factorial of\", n, \"is:\", factorial)"
      ],
      "metadata": {
        "id": "-6pc4rBZ7wr_",
        "outputId": "7a916448-5cb0-4d51-867c-7f87870d92fa",
        "colab": {
          "base_uri": "https://localhost:8080/"
        }
      },
      "execution_count": null,
      "outputs": [
        {
          "output_type": "stream",
          "name": "stdout",
          "text": [
            "Factorial of 5 is: 120\n"
          ]
        }
      ]
    },
    {
      "cell_type": "markdown",
      "source": [
        "**While Loop Examples:**\n",
        "- Example 1: Countdown Timer\n",
        "    - A while loop can be used to create a simple countdown timer."
      ],
      "metadata": {
        "id": "4ZJZK6M98Cgw"
      }
    },
    {
      "cell_type": "code",
      "source": [
        "# Initialize the countdown value\n",
        "countdown = 10\n",
        "\n",
        "# Execute the loop as long as countdown is greater than 0\n",
        "while countdown > 0:\n",
        "    print(\"Countdown:\", countdown)\n",
        "    countdown -= 1  # Decrement the countdown\n",
        "\n",
        "print(\"Blast off!\")\n"
      ],
      "metadata": {
        "id": "yeFE6W5w768m",
        "outputId": "9b71daa3-eaa0-4fe3-dd95-e24c7fb55e58",
        "colab": {
          "base_uri": "https://localhost:8080/"
        }
      },
      "execution_count": null,
      "outputs": [
        {
          "output_type": "stream",
          "name": "stdout",
          "text": [
            "Countdown: 10\n",
            "Countdown: 9\n",
            "Countdown: 8\n",
            "Countdown: 7\n",
            "Countdown: 6\n",
            "Countdown: 5\n",
            "Countdown: 4\n",
            "Countdown: 3\n",
            "Countdown: 2\n",
            "Countdown: 1\n",
            "Blast off!\n"
          ]
        }
      ]
    },
    {
      "cell_type": "markdown",
      "source": [
        "**Example 2: Asking for User Input**\n",
        "- A while loop can be used to repeatedly ask the user for input until they provide valid data."
      ],
      "metadata": {
        "id": "8yP0SO0p8QJU"
      }
    },
    {
      "cell_type": "code",
      "source": [
        "# Initialize user input\n",
        "user_input = \"\"\n",
        "\n",
        "# Keep asking for input until the user types 'exit'\n",
        "while user_input.lower() != \"exit\":\n",
        "    user_input = input(\"Type 'exit' to quit: \")\n",
        "    if user_input.lower() != \"exit\":\n",
        "        print(\"You typed:\", user_input)\n",
        "\n",
        "print(\"Goodbye!\")\n"
      ],
      "metadata": {
        "id": "9qJDbs-68MAM",
        "outputId": "8c02e4a5-ce46-4852-bb01-e1dd6f4feaca",
        "colab": {
          "base_uri": "https://localhost:8080/"
        }
      },
      "execution_count": null,
      "outputs": [
        {
          "output_type": "stream",
          "name": "stdout",
          "text": [
            "Type 'exit' to quit: hello\n",
            "You typed: hello\n",
            "Type 'exit' to quit: K vo\n",
            "You typed: K vo\n",
            "Type 'exit' to quit: exit\n",
            "Goodbye!\n"
          ]
        }
      ]
    },
    {
      "cell_type": "markdown",
      "source": [
        "**Example 3: Summing Numbers Until a Condition is Met**\n",
        "- A while loop can be used to sum numbers entered by the user until they enter a negative number."
      ],
      "metadata": {
        "id": "kChIrW7z8gBT"
      }
    },
    {
      "cell_type": "code",
      "source": [
        "# Initialize total sum\n",
        "total_sum = 0\n",
        "\n",
        "# Initialize user input\n",
        "number = 0\n",
        "\n",
        "# Keep asking for numbers and summing them until a negative number is entered\n",
        "while number >= 0:\n",
        "    number = int(input(\"Enter a number (negative to quit): \"))\n",
        "    if number >= 0:\n",
        "        total_sum += number\n",
        "\n",
        "print(\"Total sum of entered numbers is:\", total_sum)\n"
      ],
      "metadata": {
        "id": "e3lNaajF8U_x",
        "outputId": "cbd76da0-9cfe-4cb7-db99-d65e08ea3ff5",
        "colab": {
          "base_uri": "https://localhost:8080/"
        }
      },
      "execution_count": null,
      "outputs": [
        {
          "output_type": "stream",
          "name": "stdout",
          "text": [
            "Enter a number (negative to quit): 10\n",
            "Enter a number (negative to quit): 21\n",
            "Enter a number (negative to quit): -1\n",
            "Total sum of entered numbers is: 31\n"
          ]
        }
      ]
    },
    {
      "cell_type": "markdown",
      "source": [
        "**Example 4: Guessing Game**\n",
        "- A while loop can be used to create a simple guessing game where the user tries to guess a predefined number."
      ],
      "metadata": {
        "id": "YIMNQHDC8tLS"
      }
    },
    {
      "cell_type": "code",
      "source": [
        "import random\n",
        "\n",
        "# Generate a random number between 1 and 10\n",
        "target_number = random.randint(1, 10)\n",
        "\n",
        "# Initialize the user's guess\n",
        "guess = 0\n",
        "\n",
        "# Keep asking the user to guess until they guess the correct number\n",
        "while guess != target_number:\n",
        "    guess = int(input(\"Guess the number (between 1 and 10): \"))\n",
        "    if guess < target_number:\n",
        "        print(\"Too low! Try again.\")\n",
        "    elif guess > target_number:\n",
        "        print(\"Too high! Try again.\")\n",
        "\n",
        "print(\"Congratulations! You guessed the correct number:\", target_number)\n"
      ],
      "metadata": {
        "id": "rWyyOyBT8lRd",
        "outputId": "290548d4-b2a7-489c-cf0b-5075d7abccbb",
        "colab": {
          "base_uri": "https://localhost:8080/"
        }
      },
      "execution_count": null,
      "outputs": [
        {
          "output_type": "stream",
          "name": "stdout",
          "text": [
            "Guess the number (between 1 and 10): 5\n",
            "Too high! Try again.\n",
            "Guess the number (between 1 and 10): 1\n",
            "Congratulations! You guessed the correct number: 1\n"
          ]
        }
      ]
    },
    {
      "cell_type": "code",
      "source": [],
      "metadata": {
        "id": "kEDJK-pZ8yby"
      },
      "execution_count": null,
      "outputs": []
    }
  ]
}