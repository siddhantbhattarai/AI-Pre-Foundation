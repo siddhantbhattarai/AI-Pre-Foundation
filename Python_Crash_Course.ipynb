{
  "nbformat": 4,
  "nbformat_minor": 0,
  "metadata": {
    "colab": {
      "provenance": []
    },
    "kernelspec": {
      "name": "python3",
      "display_name": "Python 3"
    },
    "language_info": {
      "name": "python"
    }
  },
  "cells": [
    {
      "cell_type": "markdown",
      "source": [
        "Python is a programming language that lets you work quickly and integrate systems more effectively."
      ],
      "metadata": {
        "id": "8VvqP7HOXHAT"
      }
    },
    {
      "cell_type": "markdown",
      "source": [
        "#### Python Crash Course\n",
        "This notebook will just go through the basic topics in order:\n",
        "\n",
        "- Print Statements\n",
        "- Data types\n",
        "    - Numbers\n",
        "    - Strings\n",
        "    - Lists\n",
        "    - Dictionaries\n",
        "    - Booleans\n",
        "    - Tuples\n",
        "    - Sets\n",
        "- Comparison Operators\n",
        "- if,elif, else Statements\n",
        "- for Loops\n",
        "- while Loops"
      ],
      "metadata": {
        "id": "sfFua-b_V98E"
      }
    },
    {
      "cell_type": "markdown",
      "source": [
        "1. Print Statements"
      ],
      "metadata": {
        "id": "WD1_ITlwWqD1"
      }
    },
    {
      "cell_type": "code",
      "execution_count": 1,
      "metadata": {
        "colab": {
          "base_uri": "https://localhost:8080/"
        },
        "id": "-KSm3SGnV5Uc",
        "outputId": "b1ff960f-6a35-452f-dc6f-b0f09edf3d26"
      },
      "outputs": [
        {
          "output_type": "stream",
          "name": "stdout",
          "text": [
            "Let's learn the python for Machine Learning!!\n"
          ]
        }
      ],
      "source": [
        "# Let's learn about the print statements\n",
        "print(\"Let's learn the python for Machine Learning!!\")"
      ]
    },
    {
      "cell_type": "code",
      "source": [
        "# Let's create two variables and print them\n",
        "x =18\n",
        "y = \"Dilasha\"\n",
        "print(x)\n",
        "print(y)"
      ],
      "metadata": {
        "colab": {
          "base_uri": "https://localhost:8080/"
        },
        "id": "kjTWTX6kXbe-",
        "outputId": "958897f8-da12-4e8a-ae21-92af3fb0019b"
      },
      "execution_count": 2,
      "outputs": [
        {
          "output_type": "stream",
          "name": "stdout",
          "text": [
            "18\n",
            "Dilasha\n"
          ]
        }
      ]
    },
    {
      "cell_type": "code",
      "source": [
        "name = input(\"What's your name? \")\n",
        "print(f\"Hi, {name}! Welcome to our Python Crsah Course.\")"
      ],
      "metadata": {
        "colab": {
          "base_uri": "https://localhost:8080/"
        },
        "id": "lntIlcY6ePIn",
        "outputId": "67fa5df3-c528-4365-baa8-da0b6b48741b"
      },
      "execution_count": 7,
      "outputs": [
        {
          "output_type": "stream",
          "name": "stdout",
          "text": [
            "What's your name? Aaron\n",
            "Hi, Aaron! Welcome to our Python Crsah Course.\n"
          ]
        }
      ]
    },
    {
      "cell_type": "code",
      "source": [
        "# let's print the statement with string formatting method\n",
        "print(f\"{y} is {x} years old.\")"
      ],
      "metadata": {
        "colab": {
          "base_uri": "https://localhost:8080/"
        },
        "id": "f9zdcVcvX9bi",
        "outputId": "cc01bd4d-5dfb-4567-f372-cadbaa5d698a"
      },
      "execution_count": 3,
      "outputs": [
        {
          "output_type": "stream",
          "name": "stdout",
          "text": [
            "Dilasha is 18 years old.\n"
          ]
        }
      ]
    },
    {
      "cell_type": "code",
      "source": [
        "# let's use format method\n",
        "print(\"{} is {} years old.\" .format(y,x))"
      ],
      "metadata": {
        "colab": {
          "base_uri": "https://localhost:8080/"
        },
        "id": "_kY5cl-KYToT",
        "outputId": "494779d1-ee61-4d40-9e49-d698e226f9f8"
      },
      "execution_count": 4,
      "outputs": [
        {
          "output_type": "stream",
          "name": "stdout",
          "text": [
            "Dilasha is 18 years old.\n"
          ]
        }
      ]
    },
    {
      "cell_type": "code",
      "source": [
        "# using concatenation method\n",
        "print(y + \" is \" + str(x) + \" years old.\")"
      ],
      "metadata": {
        "colab": {
          "base_uri": "https://localhost:8080/"
        },
        "id": "yMJ8CFgCYyur",
        "outputId": "48c69286-307c-4f4c-e2a9-bd726d0cfc5f"
      },
      "execution_count": 5,
      "outputs": [
        {
          "output_type": "stream",
          "name": "stdout",
          "text": [
            "Dilasha is 18 years old.\n"
          ]
        }
      ]
    },
    {
      "cell_type": "code",
      "source": [
        "# Using older % string formatting method\n",
        "print(\"%s is %d years old.\" %(y,x))"
      ],
      "metadata": {
        "colab": {
          "base_uri": "https://localhost:8080/"
        },
        "id": "PE2pYMATZhSw",
        "outputId": "853e8187-f9c8-4bf0-bdf3-78a34326528f"
      },
      "execution_count": 6,
      "outputs": [
        {
          "output_type": "stream",
          "name": "stdout",
          "text": [
            "Dilasha is 18 years old.\n"
          ]
        }
      ]
    },
    {
      "cell_type": "markdown",
      "source": [
        "2. Data Types\n",
        "- A data type is an attribute associated with a piece of data that tells a computer system how to interpret its value. Understanding data types ensures that data is collected in the preferred format and the value of each property is as expected."
      ],
      "metadata": {
        "id": "ByQZFGIddfga"
      }
    },
    {
      "cell_type": "markdown",
      "source": [
        "2.1 Numbers"
      ],
      "metadata": {
        "id": "J5bMF2AWhCbF"
      }
    },
    {
      "cell_type": "markdown",
      "source": [
        "Q. Create a program that converts temperatures between Celsius and Fahrenheit."
      ],
      "metadata": {
        "id": "H2_ntnt0e0F8"
      }
    },
    {
      "cell_type": "code",
      "source": [
        "celsius = float(input(\"Enter temperature in Celsius: \"))\n",
        "fahrenheit = (celsius * 9/5) + 32\n",
        "print(f\"{celsius} C is equal to {fahrenheit} F.\")"
      ],
      "metadata": {
        "colab": {
          "base_uri": "https://localhost:8080/"
        },
        "id": "GDumv2dChHMM",
        "outputId": "768f6f3f-557f-47b1-fad2-d094cee689b4"
      },
      "execution_count": 11,
      "outputs": [
        {
          "output_type": "stream",
          "name": "stdout",
          "text": [
            "Enter temperature in Celsius: 37\n",
            "37.0 C is equal to 98.6 F.\n"
          ]
        }
      ]
    },
    {
      "cell_type": "code",
      "source": [
        "# working with numbers\n",
        "x = 20\n",
        "y = 50\n",
        "print(f'The addition two number x and y is is {x+y}.')"
      ],
      "metadata": {
        "colab": {
          "base_uri": "https://localhost:8080/"
        },
        "id": "uO7XU9-UhV3J",
        "outputId": "c4c9d649-56c2-4dd2-8068-17a8c9389b58"
      },
      "execution_count": 12,
      "outputs": [
        {
          "output_type": "stream",
          "name": "stdout",
          "text": [
            "The addition two number x and y is is 70\n"
          ]
        }
      ]
    },
    {
      "cell_type": "markdown",
      "source": [
        "2.2 String\n",
        "- Strings are sequences of characters."
      ],
      "metadata": {
        "id": "jX5teOd-iVGK"
      }
    },
    {
      "cell_type": "code",
      "source": [
        "greeting = 'Nameste'\n",
        "print(greeting)"
      ],
      "metadata": {
        "colab": {
          "base_uri": "https://localhost:8080/"
        },
        "id": "-bn9OsPqhnBh",
        "outputId": "ff00e30f-07da-4c8d-e133-be51be39b549"
      },
      "execution_count": 13,
      "outputs": [
        {
          "output_type": "stream",
          "name": "stdout",
          "text": [
            "Nameste\n"
          ]
        }
      ]
    },
    {
      "cell_type": "markdown",
      "source": [
        "Q. Create a program that takes a person's full name and formats it for a formal letter."
      ],
      "metadata": {
        "id": "4hhA5SxKip8D"
      }
    },
    {
      "cell_type": "code",
      "source": [
        "full_name =  input(\"Enter your full name: \")\n",
        "formatted_name = full_name.title()\n",
        "print(f\"Dear {formatted_name},\")"
      ],
      "metadata": {
        "colab": {
          "base_uri": "https://localhost:8080/"
        },
        "id": "2RlO0IXrimRR",
        "outputId": "c0215bda-dca3-4b07-cb0c-8407de5d03fb"
      },
      "execution_count": 14,
      "outputs": [
        {
          "output_type": "stream",
          "name": "stdout",
          "text": [
            "Enter your full name: siddhant bhattarai\n",
            "Dear Siddhant Bhattarai,\n"
          ]
        }
      ]
    },
    {
      "cell_type": "code",
      "source": [
        "x = \"I am learning python.\"\n",
        "y = \"Python is awesome!!\"\n",
        "\n",
        "concatenated_string = x + ' ' + y\n",
        "print(concatenated_string)"
      ],
      "metadata": {
        "colab": {
          "base_uri": "https://localhost:8080/"
        },
        "id": "X1FytK2VjIve",
        "outputId": "326c969a-5b6a-4f6e-cb85-603f16df20c7"
      },
      "execution_count": 16,
      "outputs": [
        {
          "output_type": "stream",
          "name": "stdout",
          "text": [
            "I am learning python. Python is awesome!!\n"
          ]
        }
      ]
    },
    {
      "cell_type": "code",
      "source": [
        "# String Methods\n",
        "upper_case = concatenated_string.upper()\n",
        "print(upper_case)"
      ],
      "metadata": {
        "colab": {
          "base_uri": "https://localhost:8080/"
        },
        "id": "tF-Qxh2CkUXx",
        "outputId": "b1459761-48ba-4e4b-85b9-4731a64a43ca"
      },
      "execution_count": 17,
      "outputs": [
        {
          "output_type": "stream",
          "name": "stdout",
          "text": [
            "I AM LEARNING PYTHON. PYTHON IS AWESOME!!\n"
          ]
        }
      ]
    },
    {
      "cell_type": "code",
      "source": [
        "lower_case = concatenated_string.lower()\n",
        "print(lower_case)"
      ],
      "metadata": {
        "colab": {
          "base_uri": "https://localhost:8080/"
        },
        "id": "UiHUDLDiknDu",
        "outputId": "29e24156-5321-487c-8fef-29271118d3d2"
      },
      "execution_count": 18,
      "outputs": [
        {
          "output_type": "stream",
          "name": "stdout",
          "text": [
            "i am learning python. python is awesome!!\n"
          ]
        }
      ]
    },
    {
      "cell_type": "code",
      "source": [],
      "metadata": {
        "id": "I9NQLQYJkvPT"
      },
      "execution_count": null,
      "outputs": []
    }
  ]
}